{
 "cells": [
  {
   "cell_type": "code",
   "execution_count": 36,
   "metadata": {},
   "outputs": [],
   "source": [
    "import requests as req\n",
    "from ipywidgets import interact, interactive, fixed, interact_manual\n",
    "import ipywidgets as widgets\n",
    "import codecs\n",
    "from IPython.display import display"
   ]
  },
  {
   "cell_type": "code",
   "execution_count": 49,
   "metadata": {},
   "outputs": [
    {
     "data": {
      "application/vnd.jupyter.widget-view+json": {
       "model_id": "d1ec250a5ab34d81bc40746e6760644f",
       "version_major": 2,
       "version_minor": 0
      },
      "text/plain": [
       "interactive(children=(Dropdown(description='currency', options=(('POLISH ZLOTY', 'PLN'), ('EURO', 'EUR'), ('OM…"
      ]
     },
     "metadata": {},
     "output_type": "display_data"
    },
    {
     "data": {
      "application/vnd.jupyter.widget-view+json": {
       "model_id": "a3346898ec6d4b1e890109eb9ecdaadc",
       "version_major": 2,
       "version_minor": 0
      },
      "text/plain": [
       "Button(description='QUIT!', style=ButtonStyle())"
      ]
     },
     "metadata": {},
     "output_type": "display_data"
    },
    {
     "data": {
      "application/vnd.jupyter.widget-view+json": {
       "model_id": "3e18313bec3544ceb98697de03487464",
       "version_major": 2,
       "version_minor": 0
      },
      "text/plain": [
       "Output()"
      ]
     },
     "metadata": {},
     "output_type": "display_data"
    }
   ],
   "source": [
    "def exchange(currency, change_to, how_much):\n",
    "    \"\"\"\n",
    "    Funkcja pobiera dane kursow walut NBP.pl i przelicza je na wybrana walute\n",
    "    @currency waluta zrodlowa\n",
    "    @change_to waluta koncowa\n",
    "    @how_much kwota ktora chcemy przeliczyc\n",
    "    Aby uruchomic program nalezy wcisnac klawisz run interact\n",
    "    \"\"\"\n",
    "    \n",
    "    if float(how_much) <= 0:\n",
    "        print(\"Hope u ment the positive number\")\n",
    "        print(\"changing input to \" + str(abs(float(how_much))))\n",
    "        how_much = abs(float(how_much))\n",
    "        \n",
    "    url = f\"http://api.nbp.pl/api/exchangerates/tables/c/\"\n",
    "    r = req.get(url)\n",
    "    files = r.json()\n",
    "    rates = files[0][\"rates\"][:]\n",
    "    new = codecs.open(\"new.txt\", \"a\", \"utf-8\")\n",
    "    new.write(str(rates))\n",
    "    new.close()\n",
    "    timeout = 5\n",
    "\n",
    "    try:\n",
    "        request = req.get(url, timeout = timeout)\n",
    "        \n",
    "    except (req.ConnectionError, timeout):\n",
    "        print(\"U dont have connection to the internet, using last table\")\n",
    "        file = codecs.open(\"new.txt\", \"r\", \"utf-8\")\n",
    "        rates = file.read()\n",
    "        \n",
    "        \n",
    "    if currency == \"PLN\":\n",
    "        for i in rates:\n",
    "            if i[\"code\"] == change_to:\n",
    "                return float(how_much)/i[\"bid\"]\n",
    "            \n",
    "    if change_to == \"PLN\":\n",
    "        for i in rates:\n",
    "            if i[\"code\"] == currency:\n",
    "                return float(how_much)*i[\"bid\"]\n",
    "            \n",
    "    if change_to == \"PLN\" and currency == \"PLN\":\n",
    "        final = float(how_much)\n",
    "        \n",
    "    cresp = req.get(url)\n",
    "    for i in rates:\n",
    "        if i[\"code\"] == currency:\n",
    "            zloty_got = i[\"bid\"] * float(how_much)\n",
    "            \n",
    "    for i in rates:\n",
    "        if i[\"code\"] == change_to:\n",
    "            final = zloty_got/i[\"bid\"]\n",
    "            \n",
    "    return final\n",
    "\n",
    "\"\"\"\n",
    "interact sluzy do tworzenia graficznych przyrzadow do wywolywania funkcji\n",
    "@currency zrodlowa waluta w postaci listy rozwijanej\n",
    "@change_to docelowa walta w postaci listy rozwijanej\n",
    "@how_much kwota do przeliczenia z zrodlowej waluty do docelowej waluty\n",
    "\"\"\"\n",
    "interact_manual(exchange, \n",
    "                currency = [(\"POLISH ZLOTY\", \"PLN\"), (\"EURO\", \"EUR\"), (\"OMERICA DOLLAR\", \"USD\"), (\"OUSTRALIAN DOLLA\", \"AUD\"),\n",
    "                            (\"CANADA SOMETHING\", \"CAD\"), (\"FORINT\",\"HUF\"), (\"FRANK SZWIZERLAND\", \"CHF\"),\n",
    "                            (\"BRITISH POUND\",\"GBP\"), (\"CZECH KRONE\",\"CZK\"), (\"DANISH KRONE\",\"DKK\"),\n",
    "                            (\"NORWEGIAN KRONE\",\"NOK\"), (\"SWEDISH KRONE\",\"SEK\"), (\"SOMETHING SPECIAL\",\"XDR\")],\n",
    "                change_to = [(\"POLISH ZLOTY\", \"PLN\"), (\"EURO\", \"EUR\"), (\"OMERICA DOLLAR\", \"USD\"), (\"OUSTRALIAN DOLLA\", \"AUD\"),\n",
    "                            (\"CANADA SOMETHING\", \"CAD\"), (\"FORINT\",\"HUF\"), (\"FRANK SZWIZERLAND\", \"CHF\"),\n",
    "                            (\"BRITISH POUND\",\"GBP\"), (\"CZECH KRONE\",\"CZK\"), (\"DANISH KRONE\",\"DKK\"),\n",
    "                            (\"NORWEGIAN KRONE\",\"NOK\"), (\"SWEDISH KRONE\",\"SEK\"), (\"SOMETHING SPECIAL\",\"XDR\")],\n",
    "                how_much = \"\");\n",
    "\n",
    "button = widgets.Button(description=\"QUIT!\")\n",
    "output = widgets.Output()\n",
    "button.on_click(True)\n",
    "display(button, output)"
   ]
  }
 ],
 "metadata": {
  "kernelspec": {
   "display_name": "Python 3",
   "language": "python",
   "name": "python3"
  },
  "language_info": {
   "codemirror_mode": {
    "name": "ipython",
    "version": 3
   },
   "file_extension": ".py",
   "mimetype": "text/x-python",
   "name": "python",
   "nbconvert_exporter": "python",
   "pygments_lexer": "ipython3",
   "version": "3.7.6"
  }
 },
 "nbformat": 4,
 "nbformat_minor": 4
}
