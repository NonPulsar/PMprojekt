{
 "cells": [
  {
   "cell_type": "markdown",
   "metadata": {},
   "source": [
    "# Układ jakiś"
   ]
  },
  {
   "cell_type": "markdown",
   "metadata": {},
   "source": [
    "$$\n",
    "\\vec{F} = \\frac{\\Delta \\vec{p}}{\\Delta t} \\\\\n",
    "\\vec{F} = \\frac{\\vec{p_{f}} - \\vec{p_{s}}}{\\Delta t} \\\\\n",
    "\\vec{p_{f}} = \\vec{F} \\cdot \\Delta t + P_{s} \\\\\n",
    "V = \\frac{\\vec{\\Delta{r}}}{\\Delta t} \\\\\n",
    "\\vec{r_{f}} - \\vec{r_{s}} = V \\cdot \\Delta t \\\\\n",
    "\\vec{r_{f}} = \\vec{r_{s}} + \\frac{\\vec{P_{f}}}{m} \\cdot \\Delta t\n",
    "$$"
   ]
  }
 ],
 "metadata": {
  "kernelspec": {
   "display_name": "Julia 1.5.3",
   "language": "julia",
   "name": "julia-1.5"
  },
  "language_info": {
   "file_extension": ".jl",
   "mimetype": "application/julia",
   "name": "julia",
   "version": "1.5.3"
  }
 },
 "nbformat": 4,
 "nbformat_minor": 4
}
